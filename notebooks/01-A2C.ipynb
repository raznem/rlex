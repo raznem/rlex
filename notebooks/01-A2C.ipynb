{
 "cells": [
  {
   "cell_type": "code",
   "execution_count": null,
   "metadata": {},
   "outputs": [],
   "source": [
    "import numpy as np\n",
    "import pandas as pd\n",
    "import matplotlib.pyplot as plt\n",
    "import multiprocessing as mp\n",
    "\n",
    "import sys\n",
    "sys.path.append('../')\n",
    "\n",
    "from utils import plot_evals_list\n",
    "from rltoolkit import A2C"
   ]
  },
  {
   "cell_type": "markdown",
   "metadata": {},
   "source": [
    "Here we have simple function for evaluations where you can change hyperparameters and run with multiprocessing: \\\n",
    "If you see wierd multiprocessing errors try to run cell again."
   ]
  },
  {
   "cell_type": "markdown",
   "metadata": {},
   "source": [
    "Here we will run experiment with `gamma=0.95`"
   ]
  },
  {
   "cell_type": "code",
   "execution_count": null,
   "metadata": {},
   "outputs": [],
   "source": [
    "processes = 3 # Number of threads\n",
    "evaluations = 3 # Number of evaluations to run\n",
    "\n",
    "def evaluate(_):\n",
    "    model = A2C(\n",
    "        iterations=200, # Number of training iterations\n",
    "        gamma=0.95, \n",
    "        batch_size=50,\n",
    "        stats_freq=20, \n",
    "        tensorboard_dir=\"tensorboard\", \n",
    "        tensorboard_comment=\"A2C\",\n",
    "        actor_lr=3e-3,\n",
    "        critic_lr=3e-4,\n",
    "        critic_num_target_updates=10,\n",
    "        num_critic_updates_per_target=10,\n",
    "        normalize_adv=True,\n",
    "        return_done = None,\n",
    "    )\n",
    "    model.train()\n",
    "    return model.stats_logger.stats\n",
    "\n",
    "with mp.Pool(processes) as p:\n",
    "    outputs = p.map(evaluate, range(evaluations))"
   ]
  },
  {
   "cell_type": "markdown",
   "metadata": {},
   "source": [
    "Next will be `gamma=0.99`"
   ]
  },
  {
   "cell_type": "code",
   "execution_count": null,
   "metadata": {},
   "outputs": [],
   "source": [
    "processes = 3 # Number of threads\n",
    "evaluations = 3 # Number of evaluations to run\n",
    "\n",
    "def evaluate(_):\n",
    "    model = A2C(\n",
    "        iterations=200, # Number of training iterations\n",
    "        gamma=0.99, \n",
    "        batch_size=50,\n",
    "        stats_freq=10, \n",
    "        tensorboard_dir=\"tensorboard\", \n",
    "        tensorboard_comment=\"A2C\",\n",
    "        actor_lr=3e-3,\n",
    "        critic_lr=3e-4,\n",
    "        critic_num_target_updates=10,\n",
    "        num_critic_updates_per_target=10,\n",
    "        normalize_adv=True,\n",
    "    )\n",
    "    model.train()\n",
    "    return model.stats_logger.stats\n",
    "\n",
    "with mp.Pool(processes) as p:\n",
    "    outputs_2 = p.map(evaluate, range(evaluations))"
   ]
  },
  {
   "cell_type": "markdown",
   "metadata": {},
   "source": [
    "Plotting the results:"
   ]
  },
  {
   "cell_type": "code",
   "execution_count": 7,
   "metadata": {},
   "outputs": [
    {
     "data": {
      "text/plain": [
       "<matplotlib.legend.Legend at 0x7fdca9260cd0>"
      ]
     },
     "execution_count": 7,
     "metadata": {},
     "output_type": "execute_result"
    },
    {
     "data": {
      "image/png": "[encoded data removed]",
      "text/plain": [
       "<Figure size 432x288 with 1 Axes>"
      ]
     },
     "metadata": {
      "needs_background": "light"
     },
     "output_type": "display_data"
    }
   ],
   "source": [
    "plot_evals_list(outputs, color=\"blue\")\n",
    "plot_evals_list(outputs_2, color=\"green\")\n",
    "plt.legend([\"g=0.95\", \"g=0.99\"], loc='upper left')"
   ]
  },
  {
   "cell_type": "markdown",
   "metadata": {},
   "source": [
    "### Tasks:\n",
    "In example above only 3 seeds was run. For your experiments use at least 10.\n",
    "1. Plot how different values of `gamma` [0.9, 0.95, 0.99] impact training.\n",
    "2. Check whether normalization of advantages  (`normalize_adv`) improves performance.\n",
    "3. Explore impact of frequent critic updates setting following parameters:\n",
    "    * `critic_num_target_updates=1` and `num_critic_updates_per_target=1`\n",
    "    * `critic_num_target_updates=100` and `num_critic_updates_per_target=1`\n",
    "    * `critic_num_target_updates=1` and `num_critic_updates_per_target=100`\n",
    "    * `critic_num_target_updates=10` and `num_critic_updates_per_target=10`\n",
    "    \n",
    "Prepare plots to illustrate all experiments."
   ]
  },
  {
   "cell_type": "code",
   "execution_count": null,
   "metadata": {},
   "outputs": [],
   "source": []
  },
  {
   "cell_type": "markdown",
   "metadata": {},
   "source": [
    "## Bonus\n",
    "Simple rendering example (based on https://gym.openai.com/). \\\n",
    "First we train model:"
   ]
  },
  {
   "cell_type": "code",
   "execution_count": 9,
   "metadata": {},
   "outputs": [
    {
     "name": "stderr",
     "output_type": "stream",
     "text": [
      "2020-12-21 13:09:42.376 MainProcess INFO  Iteration    0\t Running return:          22.22222222\n",
      "2020-12-21 13:09:42.377 MainProcess INFO  Average iteration is 0.227799 seconds\n",
      "2020-12-21 13:09:44.722 MainProcess INFO  Iteration   10\t Running return:          28.69517586\n",
      "2020-12-21 13:09:44.723 MainProcess INFO  Average iteration is 0.23031930000000003 seconds\n",
      "2020-12-21 13:09:46.918 MainProcess INFO  Task finished at 20th iteration. Running return is 22.962453189542384\n"
     ]
    }
   ],
   "source": [
    "model = A2C(\n",
    "    iterations=20, # Number of training iterations\n",
    "    gamma=0.95, \n",
    "    batch_size=200,\n",
    "    stats_freq=10, \n",
    "    tensorboard_dir=\"tensorboard\", \n",
    "    tensorboard_comment=\"A2C\",\n",
    "    actor_lr=3e-3,\n",
    "    critic_lr=3e-4,\n",
    "    critic_num_target_updates=10,\n",
    "    num_critic_updates_per_target=10,\n",
    "    normalize_adv=True,\n",
    ")\n",
    "model.train()"
   ]
  },
  {
   "cell_type": "markdown",
   "metadata": {},
   "source": [
    "Then we iterate through our environment:"
   ]
  },
  {
   "cell_type": "code",
   "execution_count": 11,
   "metadata": {},
   "outputs": [],
   "source": [
    "import gym\n",
    "\n",
    "num_frames = 100\n",
    "\n",
    "env = gym.make(\"CartPole-v1\")\n",
    "observation = env.reset()\n",
    "for _ in range(num_frames):\n",
    "    env.render()\n",
    "    action = model.action(observation) # your agent here (this takes random actions)\n",
    "    observation, reward, done, info = env.step(action)\n",
    "\n",
    "    if done:\n",
    "        observation = env.reset()\n",
    "env.close()"
   ]
  },
  {
   "cell_type": "code",
   "execution_count": null,
   "metadata": {},
   "outputs": [],
   "source": []
  }
 ],
 "metadata": {
  "kernelspec": {
   "display_name": "Python 3",
   "language": "python",
   "name": "python3"
  },
  "language_info": {
   "codemirror_mode": {
    "name": "ipython",
    "version": 3
   },
   "file_extension": ".py",
   "mimetype": "text/x-python",
   "name": "python",
   "nbconvert_exporter": "python",
   "pygments_lexer": "ipython3",
   "version": "3.7.7"
  }
 },
 "nbformat": 4,
 "nbformat_minor": 4
}
